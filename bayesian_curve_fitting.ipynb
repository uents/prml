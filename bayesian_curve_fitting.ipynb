{
 "cells": [
  {
   "cell_type": "markdown",
   "metadata": {},
   "source": [
    "# §1.2.6 Bayesian Curve Fitting"
   ]
  },
  {
   "cell_type": "code",
   "execution_count": 1,
   "metadata": {
    "collapsed": true
   },
   "outputs": [],
   "source": [
    "%reload_ext autoreload\n",
    "%autoreload 2\n",
    "\n",
    "%matplotlib inline\n",
    "\n",
    "from __future__ import unicode_literals, print_function\n",
    "import six\n",
    "import sys\n",
    "import os\n",
    "import math\n",
    "import datetime as dt\n",
    "import numpy as np\n",
    "import scipy\n",
    "import statsmodels.api as sm\n",
    "import matplotlib.pyplot as plt\n",
    "import pandas as pd\n",
    "\n",
    "plt.style.use('seaborn-whitegrid')"
   ]
  },
  {
   "cell_type": "code",
   "execution_count": 2,
   "metadata": {
    "collapsed": false
   },
   "outputs": [
    {
     "data": {
      "text/plain": [
       "'3.6.0 |Anaconda 4.3.0 (x86_64)| (default, Dec 23 2016, 13:19:00) \\n[GCC 4.2.1 Compatible Apple LLVM 6.0 (clang-600.0.57)]'"
      ]
     },
     "execution_count": 2,
     "metadata": {},
     "output_type": "execute_result"
    }
   ],
   "source": [
    "sys.version"
   ]
  },
  {
   "cell_type": "markdown",
   "metadata": {},
   "source": [
    "## Create dataset"
   ]
  },
  {
   "cell_type": "code",
   "execution_count": 3,
   "metadata": {
    "collapsed": false
   },
   "outputs": [],
   "source": [
    "def make_truth_data(func=lambda x: x):\n",
    "    xs = np.arange(0, 1, 0.02)\n",
    "    ys = func(xs)\n",
    "    return xs, ys\n",
    "\n",
    "def make_observed_data(func=lambda x: x, std=0.1):\n",
    "    xs = np.arange(0, 1, 0.1)\n",
    "    ys = func(xs) + np.random.normal(0, std, xs.size)\n",
    "    return xs, ys\n",
    "\n",
    "def sin(x):\n",
    "    return np.sin(2*np.pi*x)\n",
    "\n",
    "xs_truth, ys_truth = make_truth_data(sin)\n",
    "xs_observ, ys_observ = make_observed_data(sin, std=0.1)"
   ]
  },
  {
   "cell_type": "code",
   "execution_count": 4,
   "metadata": {
    "collapsed": false
   },
   "outputs": [
    {
     "data": {
      "text/plain": [
       "<matplotlib.legend.Legend at 0x11bcd94e0>"
      ]
     },
     "execution_count": 4,
     "metadata": {},
     "output_type": "execute_result"
    },
    {
     "data": {
      "image/png": "[encoded data removed]",
      "text/plain": [
       "<matplotlib.figure.Figure at 0x118921ef0>"
      ]
     },
     "metadata": {},
     "output_type": "display_data"
    }
   ],
   "source": [
    "fig, axes = plt.subplots(nrows=1, ncols=1, figsize=(9,6))\n",
    "\n",
    "axes.plot(xs_truth, ys_truth, label='truth')\n",
    "axes.scatter(xs_observ, ys_observ, color='green', marker='o', label='observed')\n",
    "axes.set_xlim(np.min(xs_truth), np.max(xs_truth))\n",
    "axes.set_xlabel('x')\n",
    "axes.set_ylabel('y')\n",
    "axes.legend()"
   ]
  },
  {
   "cell_type": "markdown",
   "metadata": {},
   "source": [
    "## Design matrix\n",
    "\n",
    "ここでの基底関数は $\\phi_{i}(x) = x^{i}$ とする"
   ]
  },
  {
   "cell_type": "code",
   "execution_count": 5,
   "metadata": {
    "collapsed": true
   },
   "outputs": [],
   "source": [
    "def poly_features(xs, m=1):\n",
    "    return np.asarray([np.power(xs, i) for i in six.moves.range(m+1)]).transpose()"
   ]
  },
  {
   "cell_type": "code",
   "execution_count": 6,
   "metadata": {
    "collapsed": false
   },
   "outputs": [
    {
     "data": {
      "text/plain": [
       "array([[ 1.   ,  0.   ,  0.   ,  0.   ],\n",
       "       [ 1.   ,  0.1  ,  0.01 ,  0.001],\n",
       "       [ 1.   ,  0.2  ,  0.04 ,  0.008],\n",
       "       [ 1.   ,  0.3  ,  0.09 ,  0.027],\n",
       "       [ 1.   ,  0.4  ,  0.16 ,  0.064],\n",
       "       [ 1.   ,  0.5  ,  0.25 ,  0.125],\n",
       "       [ 1.   ,  0.6  ,  0.36 ,  0.216],\n",
       "       [ 1.   ,  0.7  ,  0.49 ,  0.343],\n",
       "       [ 1.   ,  0.8  ,  0.64 ,  0.512],\n",
       "       [ 1.   ,  0.9  ,  0.81 ,  0.729]])"
      ]
     },
     "execution_count": 6,
     "metadata": {},
     "output_type": "execute_result"
    }
   ],
   "source": [
    "poly_features(xs_observ, m=3)"
   ]
  },
  {
   "cell_type": "markdown",
   "metadata": {},
   "source": [
    "## Bayesian regression"
   ]
  },
  {
   "cell_type": "code",
   "execution_count": 26,
   "metadata": {
    "collapsed": true
   },
   "outputs": [],
   "source": [
    "class BayesianRegression(object):\n",
    "    def __init__(self, m=1, alpha=0.001, beta=1.0):\n",
    "        self.m = m\n",
    "        self.alpha = alpha\n",
    "        self.beta = beta\n",
    "\n",
    "    def fit(self, xs, ts):\n",
    "        phis = poly_features(xs, m=self.m)\n",
    "        # (1.72)\n",
    "        var_inv = self.alpha * np.identity(phis.shape[1]) + phis.T.dot(phis)\n",
    "        self.var = np.linalg.inv(var_inv)\n",
    "        # (1.70)\n",
    "        self.mean = self.beta * self.var.dot(phis.T.dot(ts))\n",
    "\n",
    "    def predict(self, xs):\n",
    "        phis = poly_features(xs, m=self.m)\n",
    "        y = phis.dot(self.mean)\n",
    "        y_var = 1 / self.beta + np.sum(phis.dot(model.var.dot(phis.T)), axis=1)\n",
    "        y_std = np.sqrt(y_var)\n",
    "        return y, y_std"
   ]
  },
  {
   "cell_type": "code",
   "execution_count": 23,
   "metadata": {
    "collapsed": false
   },
   "outputs": [],
   "source": [
    "model = BayesianRegression(m=25)\n",
    "model.fit(xs_observ, ys_observ)"
   ]
  },
  {
   "cell_type": "code",
   "execution_count": 24,
   "metadata": {
    "collapsed": false
   },
   "outputs": [
    {
     "name": "stderr",
     "output_type": "stream",
     "text": [
      "/Users/uents/.anyenv/envs/pyenv/versions/anaconda3-4.3.0/lib/python3.6/site-packages/ipykernel/__main__.py:19: RuntimeWarning: invalid value encountered in sqrt\n"
     ]
    }
   ],
   "source": [
    "ys_pred, ys_pred_std = model.predict(xs_truth)"
   ]
  },
  {
   "cell_type": "code",
   "execution_count": 25,
   "metadata": {
    "collapsed": false
   },
   "outputs": [
    {
     "data": {
      "text/plain": [
       "<matplotlib.legend.Legend at 0x11d2d27b8>"
      ]
     },
     "execution_count": 25,
     "metadata": {},
     "output_type": "execute_result"
    },
    {
     "data": {
      "image/png": "[encoded data removed]",
      "text/plain": [
       "<matplotlib.figure.Figure at 0x11cd68cf8>"
      ]
     },
     "metadata": {},
     "output_type": "display_data"
    }
   ],
   "source": [
    "fig, axes = plt.subplots(nrows=1, ncols=1, figsize=(9,6))\n",
    "axes.plot(xs_truth, ys_truth, label='truth')\n",
    "axes.scatter(xs_observ, ys_observ, color='green', marker='o', label='observed')\n",
    "axes.plot(xs_truth, ys_pred, color='red', label='predicted')\n",
    "axes.set_xlim(np.min(xs_truth), np.max(xs_truth))\n",
    "axes.set_xlabel('x')\n",
    "axes.set_ylabel('y')\n",
    "axes.legend()"
   ]
  },
  {
   "cell_type": "code",
   "execution_count": null,
   "metadata": {
    "collapsed": false
   },
   "outputs": [],
   "source": [
    "phis = poly_features(xs_observ, m=3)\n",
    "phis.shape"
   ]
  },
  {
   "cell_type": "code",
   "execution_count": null,
   "metadata": {
    "collapsed": false
   },
   "outputs": [],
   "source": [
    "model.mean.shape"
   ]
  },
  {
   "cell_type": "code",
   "execution_count": null,
   "metadata": {
    "collapsed": false
   },
   "outputs": [],
   "source": [
    "phis.dot(model.mean)"
   ]
  },
  {
   "cell_type": "code",
   "execution_count": null,
   "metadata": {
    "collapsed": true
   },
   "outputs": [],
   "source": []
  },
  {
   "cell_type": "code",
   "execution_count": null,
   "metadata": {
    "collapsed": true
   },
   "outputs": [],
   "source": []
  },
  {
   "cell_type": "code",
   "execution_count": null,
   "metadata": {
    "collapsed": true
   },
   "outputs": [],
   "source": []
  },
  {
   "cell_type": "code",
   "execution_count": null,
   "metadata": {
    "collapsed": true
   },
   "outputs": [],
   "source": []
  },
  {
   "cell_type": "code",
   "execution_count": null,
   "metadata": {
    "collapsed": true
   },
   "outputs": [],
   "source": []
  },
  {
   "cell_type": "code",
   "execution_count": null,
   "metadata": {
    "collapsed": true
   },
   "outputs": [],
   "source": []
  },
  {
   "cell_type": "code",
   "execution_count": null,
   "metadata": {
    "collapsed": true
   },
   "outputs": [],
   "source": []
  }
 ],
 "metadata": {
  "kernelspec": {
   "display_name": "Python 3",
   "language": "python",
   "name": "python3"
  },
  "language_info": {
   "codemirror_mode": {
    "name": "ipython",
    "version": 3
   },
   "file_extension": ".py",
   "mimetype": "text/x-python",
   "name": "python",
   "nbconvert_exporter": "python",
   "pygments_lexer": "ipython3",
   "version": "3.6.0"
  }
 },
 "nbformat": 4,
 "nbformat_minor": 2
}
